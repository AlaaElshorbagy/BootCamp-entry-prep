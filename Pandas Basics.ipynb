{
 "cells": [
  {
   "cell_type": "markdown",
   "id": "c5acf0e1",
   "metadata": {},
   "source": [
    "Dictionaries into Pandas DataFrame:"
   ]
  },
  {
   "cell_type": "code",
   "execution_count": 2,
   "id": "0b3027fd",
   "metadata": {},
   "outputs": [
    {
     "name": "stdout",
     "output_type": "stream",
     "text": [
      "        country    capital    area  population\n",
      "0        Brazil   Brasilia   8.516      200.40\n",
      "1        Russia     Moscow  17.100      143.50\n",
      "2         India  New Dehli   3.286     1252.00\n",
      "3         China    Beijing   9.597     1357.00\n",
      "4  South Africa   Pretoria   1.221       52.98\n"
     ]
    }
   ],
   "source": [
    "dict = {\"country\": [\"Brazil\", \"Russia\", \"India\", \"China\", \"South Africa\"],\n",
    "       \"capital\": [\"Brasilia\", \"Moscow\", \"New Dehli\", \"Beijing\", \"Pretoria\"],\n",
    "       \"area\": [8.516, 17.10, 3.286, 9.597, 1.221],\n",
    "       \"population\": [200.4, 143.5, 1252, 1357, 52.98] }\n",
    "\n",
    "import pandas as pd\n",
    "brics = pd.DataFrame(dict)\n",
    "print(brics)"
   ]
  },
  {
   "cell_type": "code",
   "execution_count": 3,
   "id": "2094365e",
   "metadata": {},
   "outputs": [
    {
     "name": "stdout",
     "output_type": "stream",
     "text": [
      "    Alaa  Sara Iman\n",
      "0  Islam  Badr  Aly\n"
     ]
    }
   ],
   "source": [
    "dic_= {'Alaa': ['Islam'], 'Sara':['Badr'], 'Iman':['Aly']}\n",
    "\n",
    "import pandas as pd\n",
    "dic_DF = pd.DataFrame(dic_)\n",
    "print(dic_DF)"
   ]
  },
  {
   "cell_type": "markdown",
   "id": "50b35c45",
   "metadata": {},
   "source": [
    "Canging index values"
   ]
  },
  {
   "cell_type": "code",
   "execution_count": 4,
   "id": "da5f6b12",
   "metadata": {},
   "outputs": [
    {
     "name": "stdout",
     "output_type": "stream",
     "text": [
      "         country    capital    area  population\n",
      "BR        Brazil   Brasilia   8.516      200.40\n",
      "RU        Russia     Moscow  17.100      143.50\n",
      "IN         India  New Dehli   3.286     1252.00\n",
      "CH         China    Beijing   9.597     1357.00\n",
      "SA  South Africa   Pretoria   1.221       52.98\n"
     ]
    }
   ],
   "source": [
    "# Set the index for brics\n",
    "brics.index = [\"BR\", \"RU\", \"IN\", \"CH\", \"SA\"]\n",
    "\n",
    "# Print out brics with new index values\n",
    "print(brics)"
   ]
  },
  {
   "cell_type": "markdown",
   "id": "6c015eaa",
   "metadata": {},
   "source": [
    "Create DataFrame via .CSV file"
   ]
  },
  {
   "cell_type": "code",
   "execution_count": 7,
   "id": "25de5ff9",
   "metadata": {},
   "outputs": [
    {
     "name": "stdout",
     "output_type": "stream",
     "text": [
      "     LatD   \"LatM\"   \"LatS\"  \"NS\"   \"LonD\"   \"LonM\"   \"LonS\"  \"EW\"  \\\n",
      "0      41        5       59   \"N\"       80       39        0   \"W\"   \n",
      "1      42       52       48   \"N\"       97       23       23   \"W\"   \n",
      "2      46       35       59   \"N\"      120       30       36   \"W\"   \n",
      "3      42       16       12   \"N\"       71       48        0   \"W\"   \n",
      "4      43       37       48   \"N\"       89       46       11   \"W\"   \n",
      "..    ...      ...      ...   ...      ...      ...      ...   ...   \n",
      "123    39       31       12   \"N\"      119       48       35   \"W\"   \n",
      "124    50       25       11   \"N\"      104       39        0   \"W\"   \n",
      "125    40       10       48   \"N\"      122       14       23   \"W\"   \n",
      "126    40       19       48   \"N\"       75       55       48   \"W\"   \n",
      "127    41        9       35   \"N\"       81       14       23   \"W\"   \n",
      "\n",
      "                 \"City\"  \"State\"  \n",
      "0          \"Youngstown\"       OH  \n",
      "1             \"Yankton\"       SD  \n",
      "2              \"Yakima\"       WA  \n",
      "3           \"Worcester\"       MA  \n",
      "4     \"Wisconsin Dells\"       WI  \n",
      "..                  ...      ...  \n",
      "123              \"Reno\"       NV  \n",
      "124            \"Regina\"       SA  \n",
      "125         \"Red Bluff\"       CA  \n",
      "126           \"Reading\"       PA  \n",
      "127           \"Ravenna\"      OH   \n",
      "\n",
      "[128 rows x 10 columns]\n"
     ]
    }
   ],
   "source": [
    "# Import pandas as pd\n",
    "import pandas as pd\n",
    "\n",
    "# Import the cars.csv data: cars\n",
    "cities = pd.read_csv('cities.csv')\n",
    "\n",
    "# Print out cities\n",
    "print(cities)"
   ]
  },
  {
   "cell_type": "code",
   "execution_count": null,
   "id": "8816ec24",
   "metadata": {},
   "outputs": [],
   "source": []
  }
 ],
 "metadata": {
  "kernelspec": {
   "display_name": "Python 3 (ipykernel)",
   "language": "python",
   "name": "python3"
  },
  "language_info": {
   "codemirror_mode": {
    "name": "ipython",
    "version": 3
   },
   "file_extension": ".py",
   "mimetype": "text/x-python",
   "name": "python",
   "nbconvert_exporter": "python",
   "pygments_lexer": "ipython3",
   "version": "3.10.7"
  }
 },
 "nbformat": 4,
 "nbformat_minor": 5
}
