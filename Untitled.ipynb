{
 "cells": [
  {
   "cell_type": "markdown",
   "id": "74745d7e",
   "metadata": {},
   "source": [
    "# Python Review"
   ]
  },
  {
   "cell_type": "code",
   "execution_count": 1,
   "id": "3cf9665e",
   "metadata": {},
   "outputs": [
    {
     "name": "stdout",
     "output_type": "stream",
     "text": [
      "Alaa\n"
     ]
    }
   ],
   "source": [
    "print('Alaa')"
   ]
  },
  {
   "cell_type": "code",
   "execution_count": null,
   "id": "4b17ed1f",
   "metadata": {},
   "outputs": [],
   "source": []
  }
 ],
 "metadata": {
  "kernelspec": {
   "display_name": "Python 3 (ipykernel)",
   "language": "python",
   "name": "python3"
  },
  "language_info": {
   "codemirror_mode": {
    "name": "ipython",
    "version": 3
   },
   "file_extension": ".py",
   "mimetype": "text/x-python",
   "name": "python",
   "nbconvert_exporter": "python",
   "pygments_lexer": "ipython3",
   "version": "3.10.7"
  }
 },
 "nbformat": 4,
 "nbformat_minor": 5
}
