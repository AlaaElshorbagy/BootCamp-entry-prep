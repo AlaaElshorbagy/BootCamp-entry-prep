{
 "cells": [
  {
   "cell_type": "markdown",
   "id": "74745d7e",
   "metadata": {},
   "source": [
    "# Python Review"
   ]
  },
  {
   "cell_type": "markdown",
   "id": "c76a9ae0",
   "metadata": {},
   "source": [
    "## Classes"
   ]
  },
  {
   "cell_type": "markdown",
   "id": "8368b3c1",
   "metadata": {},
   "source": [
    "Code1:"
   ]
  },
  {
   "cell_type": "code",
   "execution_count": 3,
   "id": "3cf9665e",
   "metadata": {},
   "outputs": [],
   "source": [
    "class MyClass:\n",
    "    variable = \"blah\"\n",
    "\n",
    "    def function(self):\n",
    "        print(\"This is a message inside the class.\")\n",
    "\n",
    "myobjectx = MyClass()"
   ]
  },
  {
   "cell_type": "markdown",
   "id": "3ade2092",
   "metadata": {},
   "source": [
    "To access a function inside of an object "
   ]
  },
  {
   "cell_type": "code",
   "execution_count": 4,
   "id": "6c375ab9",
   "metadata": {
    "scrolled": true
   },
   "outputs": [
    {
     "name": "stdout",
     "output_type": "stream",
     "text": [
      "This is a message inside the class.\n"
     ]
    }
   ],
   "source": [
    "myobjectx.function()"
   ]
  },
  {
   "cell_type": "markdown",
   "id": "7ec17b5c",
   "metadata": {},
   "source": [
    "To access a function inside of an object "
   ]
  },
  {
   "cell_type": "code",
   "execution_count": 16,
   "id": "1aa8f506",
   "metadata": {},
   "outputs": [
    {
     "data": {
      "text/plain": [
       "'blah'"
      ]
     },
     "execution_count": 16,
     "metadata": {},
     "output_type": "execute_result"
    }
   ],
   "source": [
    "myobjectx.variable"
   ]
  },
  {
   "cell_type": "markdown",
   "id": "40755b43",
   "metadata": {},
   "source": [
    "Code2:"
   ]
  },
  {
   "cell_type": "code",
   "execution_count": 17,
   "id": "6d4a8b66",
   "metadata": {},
   "outputs": [
    {
     "name": "stdout",
     "output_type": "stream",
     "text": [
      "blah\n",
      "yackity\n"
     ]
    }
   ],
   "source": [
    "myobjectx = MyClass()\n",
    "myobjecty = MyClass()\n",
    "\n",
    "myobjecty.variable = \"yackity\"\n",
    "\n",
    "# Then print out both values\n",
    "print(myobjectx.variable)\n",
    "print(myobjecty.variable)"
   ]
  },
  {
   "cell_type": "markdown",
   "id": "fcee75f3",
   "metadata": {},
   "source": [
    "#### init( )\n",
    "The __init__() function, is a special function that is called when the class is being initiated. It's used for assigning values in a class."
   ]
  },
  {
   "cell_type": "code",
   "execution_count": 19,
   "id": "9b69c228",
   "metadata": {},
   "outputs": [
    {
     "name": "stdout",
     "output_type": "stream",
     "text": [
      "7\n"
     ]
    }
   ],
   "source": [
    "class NumberHolder:\n",
    "\n",
    "   def __init__(self, number,string):\n",
    "       self.number = number\n",
    "\n",
    "   def returnNumber(self):\n",
    "       return self.number\n",
    "\n",
    "var = NumberHolder(7,'a')\n",
    "print(var.returnNumber()) #Prints '7'"
   ]
  },
  {
   "cell_type": "markdown",
   "id": "e8560dd4",
   "metadata": {},
   "source": [
    "Exercise:\n",
    "\n",
    "We have a class defined for vehicles. Create two new vehicles called car1 and car2. Set car1 to be a red convertible worth 60,000.00 USD with a name of Fer, and car2 to be a blue van named Jump worth 10,000.00 USD.\n",
    "\n"
   ]
  },
  {
   "cell_type": "code",
   "execution_count": 22,
   "id": "57e4ab32",
   "metadata": {},
   "outputs": [
    {
     "name": "stdout",
     "output_type": "stream",
     "text": [
      "Fer is a red convirtable worth $60000.00.\n",
      "Jump is a blue van worth $10000.00.\n"
     ]
    }
   ],
   "source": [
    "# define the Vehicle class\n",
    "class Vehicle:\n",
    "    def __init__(self, name,color,kind,value):\n",
    "       self.name = name\n",
    "       self.color = color\n",
    "       self.kind = kind\n",
    "       self.value = value\n",
    "    def description(self):\n",
    "        desc_str = \"%s is a %s %s worth $%.2f.\" % (self.name, self.color, self.kind, self.value)\n",
    "        return desc_str\n",
    "    \n",
    "#assign object    \n",
    "car1 = Vehicle('Fer', 'red', 'convirtable', 60000)\n",
    "car2 = Vehicle('Jump', 'blue', 'van', 10000)\n",
    "# test code\n",
    "print(car1.description())\n",
    "print(car2.description())"
   ]
  },
  {
   "cell_type": "markdown",
   "id": "df59ea74",
   "metadata": {},
   "source": [
    "## Dictionary "
   ]
  },
  {
   "cell_type": "markdown",
   "id": "1806dde0",
   "metadata": {},
   "source": [
    "Define: "
   ]
  },
  {
   "cell_type": "code",
   "execution_count": 24,
   "id": "a7f482fc",
   "metadata": {},
   "outputs": [
    {
     "name": "stdout",
     "output_type": "stream",
     "text": [
      "{'Alaa': 1, 'nor': 4, (2, 3): [1, 3]}\n"
     ]
    }
   ],
   "source": [
    "my_dic = {}\n",
    "my_dic['Alaa'] = 1\n",
    "my_dic['nor'] = 4\n",
    "my_dic[(2,3)] = [1,3]\n",
    "\n",
    "print(my_dic)"
   ]
  },
  {
   "cell_type": "markdown",
   "id": "f52033bd",
   "metadata": {},
   "source": [
    "Accessing dictionary:"
   ]
  },
  {
   "cell_type": "code",
   "execution_count": 30,
   "id": "c6d8b74d",
   "metadata": {},
   "outputs": [
    {
     "data": {
      "text/plain": [
       "dict_values([1, 4, [1, 3]])"
      ]
     },
     "execution_count": 30,
     "metadata": {},
     "output_type": "execute_result"
    }
   ],
   "source": [
    "my_dic.keys()\n",
    "my_dic.values()"
   ]
  },
  {
   "cell_type": "code",
   "execution_count": 31,
   "id": "9966e0f8",
   "metadata": {},
   "outputs": [
    {
     "name": "stdout",
     "output_type": "stream",
     "text": [
      "['Alaa', 'nor', (2, 3)] [1, 4, [1, 3]]\n"
     ]
    }
   ],
   "source": [
    "list_keys = list(my_dic.keys())\n",
    "list_values = list(my_dic.values())\n",
    "print(list_keys,list_values)"
   ]
  },
  {
   "cell_type": "code",
   "execution_count": 33,
   "id": "a792f1c4",
   "metadata": {},
   "outputs": [
    {
     "data": {
      "text/plain": [
       "dict_items([('Alaa', 1), ('nor', 4), ((2, 3), [1, 3])])"
      ]
     },
     "execution_count": 33,
     "metadata": {},
     "output_type": "execute_result"
    }
   ],
   "source": [
    "my_dic.items()"
   ]
  },
  {
   "cell_type": "markdown",
   "id": "1aac89db",
   "metadata": {},
   "source": [
    "Exercise:\n",
    "\n",
    "Add \"Jake\" to the phonebook with the phone number 938273443, and remove Jill from the phonebook.\n",
    "\n",
    "phonebook = {  \n",
    "    \"John\" : 938477566,\n",
    "    \"Jack\" : 938377264,\n",
    "    \"Jill\" : 947662781\n",
    "}  "
   ]
  },
  {
   "cell_type": "code",
   "execution_count": 35,
   "id": "e5799792",
   "metadata": {},
   "outputs": [
    {
     "name": "stdout",
     "output_type": "stream",
     "text": [
      "{'John': 938477566, 'Jack': 938377264, 'Jake': 938273443}\n"
     ]
    }
   ],
   "source": [
    "phonebook = {  \n",
    "    \"John\" : 938477566,\n",
    "    \"Jack\" : 938377264,\n",
    "    \"Jill\" : 947662781\n",
    "}  \n",
    "\n",
    "phonebook[\"Jake\"] = 938273443\n",
    "del phonebook[\"Jill\"] \n",
    "\n",
    "print(phonebook)"
   ]
  },
  {
   "cell_type": "code",
   "execution_count": 38,
   "id": "edfdbb32",
   "metadata": {},
   "outputs": [
    {
     "name": "stdout",
     "output_type": "stream",
     "text": [
      "['a', 'e', 'u', 'x']\n"
     ]
    }
   ],
   "source": [
    "l = ['a', 'x','u', 'e']\n",
    "l.sort()\n",
    "print(l)"
   ]
  },
  {
   "cell_type": "markdown",
   "id": "1baa041a",
   "metadata": {},
   "source": [
    "## Modules and Packages"
   ]
  },
  {
   "cell_type": "markdown",
   "id": "e2db29fa",
   "metadata": {},
   "source": [
    "Modules in Python are just Python files with a .py extension. The name of the module is the same as the file name. A Python module can have a set of functions, classes, or variables defined and implemented.\n",
    "\n",
    "There different ways to import a module:\n",
    "- import module_name\n",
    "- import module_name as mn\n",
    "\n",
    "We can also import module from different directory by specify the directory name\n",
    "- sys.path.append(\"/directoryname\")          \n",
    "  import module_name\n",
    "\n",
    "To use a function in a module we have two wayes:\n",
    "- import module_name      \n",
    "  fn = module_name.function_name()\n",
    "- from module_name import function_name()\n",
    "We can import all functions in a module all at once:\n",
    "- from module_name import *\n",
    "  "
   ]
  },
  {
   "cell_type": "markdown",
   "id": "3ff25b09",
   "metadata": {},
   "source": [
    "Exercise    \n",
    "In this exercise, print an alphabetically sorted list of all the functions in the re module containing the word find"
   ]
  },
  {
   "cell_type": "code",
   "execution_count": 40,
   "id": "8c99d00d",
   "metadata": {},
   "outputs": [
    {
     "name": "stdout",
     "output_type": "stream",
     "text": [
      "None\n"
     ]
    }
   ],
   "source": [
    "import re\n",
    "\n",
    "# Your code goes here\n",
    "find_members = []\n",
    "for fn in dir(re):\n",
    "    if 'find' in fn:\n",
    "        find_members.append(fn)\n",
    "\n",
    "print(find_members.sort())"
   ]
  },
  {
   "cell_type": "code",
   "execution_count": 39,
   "id": "1574ec58",
   "metadata": {},
   "outputs": [],
   "source": [
    "import numpy as np"
   ]
  },
  {
   "cell_type": "code",
   "execution_count": null,
   "id": "c83bfc41",
   "metadata": {},
   "outputs": [],
   "source": []
  }
 ],
 "metadata": {
  "kernelspec": {
   "display_name": "Python 3 (ipykernel)",
   "language": "python",
   "name": "python3"
  },
  "language_info": {
   "codemirror_mode": {
    "name": "ipython",
    "version": 3
   },
   "file_extension": ".py",
   "mimetype": "text/x-python",
   "name": "python",
   "nbconvert_exporter": "python",
   "pygments_lexer": "ipython3",
   "version": "3.10.7"
  }
 },
 "nbformat": 4,
 "nbformat_minor": 5
}
